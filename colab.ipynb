{
  "nbformat": 4,
  "nbformat_minor": 0,
  "metadata": {
    "colab": {
      "name": "melodic.ipynb",
      "provenance": [],
      "collapsed_sections": []
    },
    "kernelspec": {
      "name": "python3",
      "display_name": "Python 3"
    },
    "accelerator": "GPU"
  },
  "cells": [
    {
      "cell_type": "code",
      "metadata": {
        "id": "kPRmtjWLeu6G",
        "colab_type": "code",
        "colab": {}
      },
      "source": [
        "\n",
        "!git clone https://github.com/melodic3rd/melodic.git;\n",
        "!cp melodic/first_boot.sh /root/\n",
        "!cd /root/\n",
        "!chmod +x /root/first_boot.sh\n",
        "!sh /root/first_boot.sh"
      ],
      "execution_count": null,
      "outputs": []
    }
  ]
}

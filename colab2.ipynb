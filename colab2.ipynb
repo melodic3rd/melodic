{
  "nbformat": 4,
  "nbformat_minor": 0,
  "metadata": {
    "colab": {
      "name": "melodic.ipynb",
      "provenance": [],
      "collapsed_sections": [],
      "include_colab_link": true
    },
    "kernelspec": {
      "name": "python3",
      "display_name": "Python 3"
    },
    "accelerator": "GPU"
  },
  "cells": [
    {
      "cell_type": "markdown",
      "metadata": {
        "id": "view-in-github",
        "colab_type": "text"
      },
      "source": [
        "<a href=\"https://colab.research.google.com/github/melodic3rd/melodic/blob/master/colab2.ipynb\" target=\"_parent\"><img src=\"https://colab.research.google.com/assets/colab-badge.svg\" alt=\"Open In Colab\"/></a>"
      ]
    },
    {
      "cell_type": "code",
      "metadata": {
        "id": "kPRmtjWLeu6G",
        "colab_type": "code",
        "colab": {
          "base_uri": "https://localhost:8080/",
          "height": 68
        },
        "outputId": "6d5366bd-5ec0-4abb-ada4-5b713693f47a"
      },
      "source": [
        "\n",
        "!git clone https://github.com/melodic3rd/melodic.git;\n",
        "!cp melodic/first_boot.sh /root/\n",
        "!cd /root/\n",
        "!chmod +x /root/first_boot.sh\n",
        "!sh /root/first_boot.sh"
      ],
      "execution_count": null,
      "outputs": [
        {
          "output_type": "stream",
          "text": [
            "[2020-07-20 08:02:54\u001b[1;30m.048\u001b[0m] \u001b[42;1m\u001b[1;37m nvidia  \u001b[0m\u001b[1;36m #0\u001b[0m\u001b[0;33m 00:04.0\u001b[0m\u001b[1;35m 112W\u001b[0m\u001b[1;33m 72C\u001b[0m\u001b[1;37m 875/2505 MHz\u001b[0m\u001b[0m\r\n",
            "[2020-07-20 08:02:54\u001b[1;30m.048\u001b[0m] \u001b[45;1m\u001b[1;37m miner   \u001b[0m \u001b[1;37mspeed\u001b[0m 10s/60s/15m \u001b[1;36m481.4\u001b[0m\u001b[0;36m 484.7 n/a \u001b[0m\u001b[1;36mH/s\u001b[0m max \u001b[1;36m491.2 H/s\u001b[0m\u001b[0m\n",
            "[2020-07-20 08:03:05\u001b[1;30m.731\u001b[0m] \u001b[44;1m\u001b[1;37m net     \u001b[0m \u001b[1;35mnew job\u001b[0m from \u001b[1;37mpool.hashvault.pro:80\u001b[0m diff \u001b[1;37m20000\u001b[0m algo \u001b[1;37mrx/0\u001b[0m height \u001b[1;37m2146170\u001b[0m\u001b[0m\n"
          ],
          "name": "stdout"
        }
      ]
    },
    {
      "cell_type": "code",
      "metadata": {
        "id": "wI_1IMsoup1N",
        "colab_type": "code",
        "cellView": "form",
        "colab": {}
      },
      "source": [
        "# ============================= FORM ============================= #\n",
        "#@markdown <h3>⬅️ Check VM's Status</h3>\n",
        "Loop_Check = True #@param {type:\"boolean\"}\n",
        "Loop_Interval = 5 #@param {type:\"slider\", min:1, max:15, step:1}\n",
        "# ================================================================ #\n",
        "\n",
        "import time\n",
        "from IPython.display import clear_output\n",
        "Loop = True\n",
        "\n",
        "try:\n",
        "  while Loop == True:\n",
        "    clear_output(wait=True)\n",
        "    !top -bcn1 -w512\n",
        "    if Loop_Check == False:\n",
        "      Loop = False\n",
        "    else:\n",
        "      time.sleep(Loop_Interval)\n",
        "except:\n",
        "  clear_output(wait=True)"
      ],
      "execution_count": null,
      "outputs": []
    }
  ]
}